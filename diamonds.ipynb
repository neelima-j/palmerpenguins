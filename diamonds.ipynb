{
    "cells": [
        {
            "cell_type": "markdown",
            "metadata": {},
            "source": [
                " Explore plotting the diamonds dataset that comes with the ggplot2 package.   \n",
                " The dataset includes data like the quality, clarity, and cut for over 50,000 diamonds.  \n",
                "\n",
                "\n",
                "Checking counts for each type of Cut.  \n",
                "geom_bar automatically counts rows as the y value.   \n"
            ]
        },
        {
            "cell_type": "code",
            "execution_count": null,
            "metadata": {},
            "outputs": [],
            "source": [
                "ggplot(data = diamonds) +\n",
                "  geom_bar(mapping = aes(x = cut))\n"
            ]
        },
        {
            "cell_type": "markdown",
            "metadata": {},
            "source": [
                "The color aesthetic will add color to the outline of each bar.  \n",
                "Now, fill is used to show the split of various diamond.color values for each diamond.cut. \n",
                "This is a *stacked bar chart*\n"
            ]
        },
        {
            "cell_type": "code",
            "execution_count": null,
            "metadata": {},
            "outputs": [],
            "source": [
                "ggplot(data = diamonds) +\n",
                "  geom_bar(mapping = aes(x = cut, fill = color))\n"
            ]
        },
        {
            "cell_type": "markdown",
            "metadata": {},
            "source": [
                "\n",
                "\n"
            ]
        },
        {
            "cell_type": "code",
            "execution_count": null,
            "metadata": {},
            "outputs": [],
            "source": [
                "diamonds_summ <- diamonds %>% \n",
                "  group_by(cut) %>% \n",
                "  summarise(average_price = mean(price), \n",
                "            median = median(price),\n",
                "            sd = sd(price),\n",
                "            se = stderr())\n",
                "  \n",
                "\n",
                "\n",
                "limits = aes(x = cut, y = average_price,ymax= diamonds_summ$average_price+diamonds_summ$se, ymin=diamonds_summ$average_price-diamonds_summ$se )\n"
            ]
        },
        {
            "cell_type": "markdown",
            "metadata": {},
            "source": [
                "\n",
                "\n"
            ]
        },
        {
            "cell_type": "code",
            "execution_count": null,
            "metadata": {},
            "outputs": [],
            "source": [
                "plot_cut1 = ggplot() + \n",
                "  geom_point(data=diamonds,aes(x=cut,y=price, color = cut),\n",
                "             position=\"jitter\" , alpha=.05)+  #dodge width around the centre line\n",
                "  geom_boxplot(data=diamonds,aes(x=cut,y=price), fill = \"transparent\")\n",
                "\n",
                "limits = aes(x = cut, y = average_price,ymax= average_price+sd, ymin= average_price-sd )\n",
                "plot_cut2 = plot_cut1+\n",
                "  geom_errorbar(data = diamonds_summ,limits,\n",
                "                 width=0.2 ) \n",
                "\n",
                "plot_cut2\n"
            ]
        },
        {
            "cell_type": "markdown",
            "metadata": {},
            "source": [
                "Across the various Cuts, the mean price is almost the same. Cut doesn't predict the price.  \n",
                "The other factors must be explored.  \n",
                "\n",
                "Scatter Plot of Price vs Carat\n"
            ]
        },
        {
            "cell_type": "code",
            "execution_count": null,
            "metadata": {},
            "outputs": [],
            "source": [
                "ggplot(data = diamonds, aes(x = carat, y = price)) + \n",
                "  geom_point()\n"
            ]
        },
        {
            "cell_type": "markdown",
            "metadata": {},
            "source": [
                "We can observe that there aren't many data points at 1.9 or 1.4 carats. This is probably indicative of market demand for significant threshold in carats.  \n",
                "\n",
                "Changing color of each point so that it represented another variable, such as the cut of the diamond. \n",
                "Also adding a title. \n"
            ]
        },
        {
            "cell_type": "code",
            "execution_count": null,
            "metadata": {},
            "outputs": [],
            "source": [
                "ggplot(data = diamonds, aes(x = carat, y = price, color = cut)) +\n",
                "  geom_point()+\n",
                "  ggtitle(\"Price vs Carat for each Cut\")\n"
            ]
        },
        {
            "cell_type": "markdown",
            "metadata": {},
            "source": [
                "\n",
                "Create a different plot for each type of cut. ggplot2 does this with the facet_wrap() function:\n"
            ]
        },
        {
            "cell_type": "code",
            "execution_count": null,
            "metadata": {},
            "outputs": [],
            "source": [
                "ggplot(data = diamonds, aes(x = carat, y = price, color = cut)) +\n",
                "geom_point(alpha=.1) +  #Transparent to overcome overplotting \n",
                "facet_wrap(~cut)+\n",
                "theme(legend.position = \"none\") +\n",
                "ggtitle(\"Price vs Carat for each Cut\")\n"
            ]
        },
        {
            "cell_type": "markdown",
            "metadata": {},
            "source": "Exploring Price vs Carat for Color of diamonds\n"
        },
        {
            "cell_type": "code",
            "execution_count": null,
            "metadata": {},
            "outputs": [],
            "source": [
                "ggplot(data = diamonds, aes(x = carat, y = price, color = color)) +\n",
                "geom_point(alpha=.1)+         #Transparent to overcome overplotting \n",
                "ggtitle(\"Price vs Carat for each Color\")\n"
            ]
        },
        {
            "cell_type": "markdown",
            "metadata": {},
            "source": [
                "Exploring Price vs Carat for Clarity of diamonds\n",
                "\n"
            ]
        },
        {
            "cell_type": "code",
            "execution_count": null,
            "metadata": {},
            "outputs": [],
            "source": [
                "ggplot(data = diamonds, aes(x = carat, y = price, color = clarity)) +\n",
                "geom_point(alpha=.1) +  #Transparent to overcome overplotting \n",
                "facet_wrap(~clarity)+\n",
                "theme(legend.position = \"none\") +\n",
                "ggtitle(\"Price vs Carat for each Clarity\")\n"
            ]
        },
        {
            "cell_type": "markdown",
            "metadata": {},
            "source": "Depth is a continuous variable that can't be used to facet_wrap. In this case you can discretise it frst.\n"
        },
        {
            "cell_type": "code",
            "execution_count": null,
            "metadata": {},
            "outputs": [],
            "source": [
                "diamonds$depth_n <- cut_number(diamonds$depth, 6)\n",
                "\n"
            ]
        },
        {
            "cell_type": "markdown",
            "metadata": {},
            "source": [
                "\n",
                "This new depth can be used as the color in aes, and for facet_wrap\n"
            ]
        },
        {
            "cell_type": "code",
            "execution_count": null,
            "metadata": {},
            "outputs": [],
            "source": [
                "ggplot(data = diamonds, aes(x = carat, y = price, color = depth_n)) +\n",
                "geom_point(alpha=.1) +  #Transparent to overcome overplotting \n",
                "facet_wrap(~depth_n)+\n",
                "theme(legend.position = \"none\") +\n",
                "ggtitle(\"Price vs Carat for each Depth\")\n"
            ]
        },
        {
            "cell_type": "markdown",
            "metadata": {},
            "source": [
                "\n",
                "\n"
            ]
        },
        {
            "cell_type": "code",
            "execution_count": null,
            "metadata": {},
            "outputs": [],
            "source": [
                "diamonds_corr <- diamonds %>% \n",
                "  select(price,carat,depth) %>% \n",
                "  drop_na() %>% \n",
                "  cor() %>% \n",
                "  round(2)\n",
                "\n",
                "diamonds_corr\n"
            ]
        },
        {
            "cell_type": "markdown",
            "metadata": {},
            "source": [
                "Carat is the strongest predictor of price.\n",
                "Depth has no correlation to price. \n",
                "Keeping carat constant, we can check the influence of Color, Cut, Clarity\n"
            ]
        },
        {
            "cell_type": "code",
            "execution_count": null,
            "metadata": {},
            "outputs": [],
            "source": [
                "diamonds %>%\n",
                "  filter(carat == 0.9) %>% \n",
                "  ggplot(aes(x=color,y=price))+\n",
                "  geom_point()+\n",
                "  facet_grid(cut~clarity)\n"
            ]
        },
        {
            "cell_type": "markdown",
            "metadata": {},
            "source": [
                "-Better the color(D), higher the price.  \n",
                "-The relationship is more pronounced in VVS2 to IF Clarity. But this could be due to fewer data points.   \n",
                "-For poorer Clarity & Cut, the price is almost the same across Colors.   \n",
                "-Visualise again, with a trendline for every observation.  \n"
            ]
        },
        {
            "cell_type": "code",
            "execution_count": null,
            "metadata": {},
            "outputs": [],
            "source": [
                "diamonds %>%\n",
                "  filter(carat==0.9) %>% \n",
                "  ggplot(aes(x=color,y=price,group=carat))+\n",
                "  geom_smooth(method=\"loess\",se=FALSE)+\n",
                "  facet_grid(cut~clarity)\n"
            ]
        },
        {
            "cell_type": "markdown",
            "metadata": {},
            "source": [
                "Consider only the 'nicer' clarity values:  \n",
                "Clarity: VVS2, VVS1, IF   \n",
                "Cut: All but Fair  \n",
                "Color: All  \n"
            ]
        },
        {
            "cell_type": "code",
            "execution_count": null,
            "metadata": {},
            "outputs": [],
            "source": [
                "diamonds %>%\n",
                "  filter(carat>=0.9 & carat<=1.5, clarity ==\"VVS2\"|clarity==\"VVS1\"|clarity==\"IF\",cut!=\"Fair\") %>% \n",
                "  ggplot(aes(x=color,y=price,group=carat,color=carat))+\n",
                "  geom_line()+\n",
                "  facet_grid(cut~clarity)\n"
            ]
        },
        {
            "cell_type": "markdown",
            "metadata": {},
            "source": [
                "\n",
                "In the better clarity range, very few observations exist with Good or worse cuts. This makes sense as the resulting diamond (bad cut, but excellent clarity) wouldn't be a desirable product. \n"
            ]
        }
    ],
    "metadata": {
        "anaconda-cloud": "",
        "kernelspec": {
            "display_name": "R",
            "langauge": "R",
            "name": "ir"
        },
        "language_info": {
            "codemirror_mode": "r",
            "file_extension": ".r",
            "mimetype": "text/x-r-source",
            "name": "R",
            "pygments_lexer": "r",
            "version": "3.4.1"
        }
    },
    "nbformat": 4,
    "nbformat_minor": 1
}
